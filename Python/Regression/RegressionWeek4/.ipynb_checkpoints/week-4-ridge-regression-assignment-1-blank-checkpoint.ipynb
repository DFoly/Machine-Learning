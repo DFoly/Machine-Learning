{
 "cells": [
  {
   "cell_type": "markdown",
   "metadata": {},
   "source": [
    "# Regression Week 4: Ridge Regression (interpretation)"
   ]
  },
  {
   "cell_type": "markdown",
   "metadata": {},
   "source": [
    "In this notebook, we will run ridge regression multiple times with different L2 penalties to see which one produces the best fit. We will revisit the example of polynomial regression as a means to see the effect of L2 regularization. In particular, we will:\n",
    "* Use a pre-built implementation of regression (GraphLab Create) to run polynomial regression\n",
    "* Use matplotlib to visualize polynomial regressions\n",
    "* Use a pre-built implementation of regression (GraphLab Create) to run polynomial regression, this time with L2 penalty\n",
    "* Use matplotlib to visualize polynomial regressions under L2 regularization\n",
    "* Choose best L2 penalty using cross-validation.\n",
    "* Assess the final fit using test data.\n",
    "\n",
    "We will continue to use the House data from previous notebooks.  (In the next programming assignment for this module, you will implement your own ridge regression learning algorithm using gradient descent.)"
   ]
  },
  {
   "cell_type": "markdown",
   "metadata": {},
   "source": [
    "# Fire up graphlab create"
   ]
  },
  {
   "cell_type": "code",
   "execution_count": 57,
   "metadata": {
    "collapsed": false
   },
   "outputs": [],
   "source": [
    "#import graphlab\n",
    "import pandas as pd\n",
    "import numpy as np\n",
    "import matplotlib.pyplot as plt\n",
    "%matplotlib inline\n",
    "from sklearn import linear_model\n"
   ]
  },
  {
   "cell_type": "markdown",
   "metadata": {},
   "source": [
    "# Polynomial regression, revisited"
   ]
  },
  {
   "cell_type": "markdown",
   "metadata": {},
   "source": [
    "We build on the material from Week 3, where we wrote the function to produce an SFrame with columns containing the powers of a given input. Copy and paste the function `polynomial_sframe` from Week 3:"
   ]
  },
  {
   "cell_type": "code",
   "execution_count": 45,
   "metadata": {
    "collapsed": true
   },
   "outputs": [],
   "source": [
    "def polynomial_sframe(feature, degree):\n",
    "    # assume that degree >= 1\n",
    "    # initialize the SFrame:\n",
    "    poly_sframe = pd.DataFrame()\n",
    "    # and set poly_sframe['power_1'] equal to the passed feature\n",
    "    poly_sframe['power_1'] = feature\n",
    "    # first check if degree > 1\n",
    "    if degree > 1:\n",
    "        # then loop over the remaining degrees:\n",
    "        # range usually starts at 0 and stops at the endpoint-1. We want it to start at 2 and stop at degree\n",
    "        for power in range(2, degree+1): \n",
    "            # first we'll give the column a name:\n",
    "            name = 'power_' + str(power)\n",
    "            # then assign poly_sframe[name] to the appropriate power of feature\n",
    "            poly_sframe[name] = feature.apply(lambda x: x**power)\n",
    "    return poly_sframe\n",
    "    "
   ]
  },
  {
   "cell_type": "markdown",
   "metadata": {},
   "source": [
    "Let's use matplotlib to visualize what a polynomial regression looks like on the house data."
   ]
  },
  {
   "cell_type": "code",
   "execution_count": 46,
   "metadata": {
    "collapsed": false
   },
   "outputs": [],
   "source": [
    "#sales = graphlab.SFrame('kc_house_data.gl/')\n",
    "dtype_dict = {'bathrooms':float, 'waterfront':int, \n",
    "              'sqft_above':int, 'sqft_living15':float, 'grade':int, 'yr_renovated':int, 'price':float, 'bedrooms':float,\n",
    "              'zipcode':str, 'long':float, 'sqft_lot15':float, 'sqft_living':float, 'floors':str, 'condition':int, 'lat':float, \n",
    "              'date':str, 'sqft_basement':int, 'yr_built':int, 'id':str, 'sqft_lot':int, 'view':int}"
   ]
  },
  {
   "cell_type": "code",
   "execution_count": 47,
   "metadata": {
    "collapsed": false
   },
   "outputs": [
    {
     "data": {
      "text/html": [
       "<div>\n",
       "<table border=\"1\" class=\"dataframe\">\n",
       "  <thead>\n",
       "    <tr style=\"text-align: right;\">\n",
       "      <th></th>\n",
       "      <th>id</th>\n",
       "      <th>date</th>\n",
       "      <th>price</th>\n",
       "      <th>bedrooms</th>\n",
       "      <th>bathrooms</th>\n",
       "      <th>sqft_living</th>\n",
       "      <th>sqft_lot</th>\n",
       "      <th>floors</th>\n",
       "      <th>waterfront</th>\n",
       "      <th>view</th>\n",
       "      <th>...</th>\n",
       "      <th>grade</th>\n",
       "      <th>sqft_above</th>\n",
       "      <th>sqft_basement</th>\n",
       "      <th>yr_built</th>\n",
       "      <th>yr_renovated</th>\n",
       "      <th>zipcode</th>\n",
       "      <th>lat</th>\n",
       "      <th>long</th>\n",
       "      <th>sqft_living15</th>\n",
       "      <th>sqft_lot15</th>\n",
       "    </tr>\n",
       "  </thead>\n",
       "  <tbody>\n",
       "    <tr>\n",
       "      <th>19452</th>\n",
       "      <td>3980300371</td>\n",
       "      <td>20140926T000000</td>\n",
       "      <td>142000</td>\n",
       "      <td>0</td>\n",
       "      <td>0.00</td>\n",
       "      <td>290</td>\n",
       "      <td>20875</td>\n",
       "      <td>1</td>\n",
       "      <td>0</td>\n",
       "      <td>0</td>\n",
       "      <td>...</td>\n",
       "      <td>1</td>\n",
       "      <td>290</td>\n",
       "      <td>0</td>\n",
       "      <td>1963</td>\n",
       "      <td>0</td>\n",
       "      <td>98024</td>\n",
       "      <td>47.5308</td>\n",
       "      <td>-121.888</td>\n",
       "      <td>1620</td>\n",
       "      <td>22850</td>\n",
       "    </tr>\n",
       "    <tr>\n",
       "      <th>15381</th>\n",
       "      <td>2856101479</td>\n",
       "      <td>20140701T000000</td>\n",
       "      <td>276000</td>\n",
       "      <td>1</td>\n",
       "      <td>0.75</td>\n",
       "      <td>370</td>\n",
       "      <td>1801</td>\n",
       "      <td>1</td>\n",
       "      <td>0</td>\n",
       "      <td>0</td>\n",
       "      <td>...</td>\n",
       "      <td>5</td>\n",
       "      <td>370</td>\n",
       "      <td>0</td>\n",
       "      <td>1923</td>\n",
       "      <td>0</td>\n",
       "      <td>98117</td>\n",
       "      <td>47.6778</td>\n",
       "      <td>-122.389</td>\n",
       "      <td>1340</td>\n",
       "      <td>5000</td>\n",
       "    </tr>\n",
       "    <tr>\n",
       "      <th>860</th>\n",
       "      <td>1723049033</td>\n",
       "      <td>20140620T000000</td>\n",
       "      <td>245000</td>\n",
       "      <td>1</td>\n",
       "      <td>0.75</td>\n",
       "      <td>380</td>\n",
       "      <td>15000</td>\n",
       "      <td>1</td>\n",
       "      <td>0</td>\n",
       "      <td>0</td>\n",
       "      <td>...</td>\n",
       "      <td>5</td>\n",
       "      <td>380</td>\n",
       "      <td>0</td>\n",
       "      <td>1963</td>\n",
       "      <td>0</td>\n",
       "      <td>98168</td>\n",
       "      <td>47.4810</td>\n",
       "      <td>-122.323</td>\n",
       "      <td>1170</td>\n",
       "      <td>15000</td>\n",
       "    </tr>\n",
       "    <tr>\n",
       "      <th>18379</th>\n",
       "      <td>1222029077</td>\n",
       "      <td>20141029T000000</td>\n",
       "      <td>265000</td>\n",
       "      <td>0</td>\n",
       "      <td>0.75</td>\n",
       "      <td>384</td>\n",
       "      <td>213444</td>\n",
       "      <td>1</td>\n",
       "      <td>0</td>\n",
       "      <td>0</td>\n",
       "      <td>...</td>\n",
       "      <td>4</td>\n",
       "      <td>384</td>\n",
       "      <td>0</td>\n",
       "      <td>2003</td>\n",
       "      <td>0</td>\n",
       "      <td>98070</td>\n",
       "      <td>47.4177</td>\n",
       "      <td>-122.491</td>\n",
       "      <td>1920</td>\n",
       "      <td>224341</td>\n",
       "    </tr>\n",
       "    <tr>\n",
       "      <th>4868</th>\n",
       "      <td>6896300380</td>\n",
       "      <td>20141002T000000</td>\n",
       "      <td>228000</td>\n",
       "      <td>0</td>\n",
       "      <td>1.00</td>\n",
       "      <td>390</td>\n",
       "      <td>5900</td>\n",
       "      <td>1</td>\n",
       "      <td>0</td>\n",
       "      <td>0</td>\n",
       "      <td>...</td>\n",
       "      <td>4</td>\n",
       "      <td>390</td>\n",
       "      <td>0</td>\n",
       "      <td>1953</td>\n",
       "      <td>0</td>\n",
       "      <td>98118</td>\n",
       "      <td>47.5260</td>\n",
       "      <td>-122.261</td>\n",
       "      <td>2170</td>\n",
       "      <td>6000</td>\n",
       "    </tr>\n",
       "  </tbody>\n",
       "</table>\n",
       "<p>5 rows × 21 columns</p>\n",
       "</div>"
      ],
      "text/plain": [
       "               id             date   price  bedrooms  bathrooms  sqft_living  \\\n",
       "19452  3980300371  20140926T000000  142000         0       0.00          290   \n",
       "15381  2856101479  20140701T000000  276000         1       0.75          370   \n",
       "860    1723049033  20140620T000000  245000         1       0.75          380   \n",
       "18379  1222029077  20141029T000000  265000         0       0.75          384   \n",
       "4868   6896300380  20141002T000000  228000         0       1.00          390   \n",
       "\n",
       "       sqft_lot floors  waterfront  view     ...      grade  sqft_above  \\\n",
       "19452     20875      1           0     0     ...          1         290   \n",
       "15381      1801      1           0     0     ...          5         370   \n",
       "860       15000      1           0     0     ...          5         380   \n",
       "18379    213444      1           0     0     ...          4         384   \n",
       "4868       5900      1           0     0     ...          4         390   \n",
       "\n",
       "       sqft_basement  yr_built  yr_renovated  zipcode      lat     long  \\\n",
       "19452              0      1963             0    98024  47.5308 -121.888   \n",
       "15381              0      1923             0    98117  47.6778 -122.389   \n",
       "860                0      1963             0    98168  47.4810 -122.323   \n",
       "18379              0      2003             0    98070  47.4177 -122.491   \n",
       "4868               0      1953             0    98118  47.5260 -122.261   \n",
       "\n",
       "       sqft_living15  sqft_lot15  \n",
       "19452           1620       22850  \n",
       "15381           1340        5000  \n",
       "860             1170       15000  \n",
       "18379           1920      224341  \n",
       "4868            2170        6000  \n",
       "\n",
       "[5 rows x 21 columns]"
      ]
     },
     "execution_count": 47,
     "metadata": {},
     "output_type": "execute_result"
    }
   ],
   "source": [
    "sales = pd.read_csv('C:\\Users\\dfoley\\Dropbox\\Machine Learning\\PythonCoursera\\Regression\\RegressionWeek3\\kc_house_data.csv', \n",
    "                    dtype=dtype_dict)\n",
    "sales = sales.sort(['sqft_living','price'])\n",
    "sales.head()"
   ]
  },
  {
   "cell_type": "markdown",
   "metadata": {},
   "source": [
    "As in Week 3, we will use the sqft_living variable. For plotting purposes (connecting the dots), you'll need to sort by the values of sqft_living. For houses with identical square footage, we break the tie by their prices."
   ]
  },
  {
   "cell_type": "code",
   "execution_count": 5,
   "metadata": {
    "collapsed": false
   },
   "outputs": [],
   "source": [
    "#sales = sales.sort(['sqft_living','price'])"
   ]
  },
  {
   "cell_type": "markdown",
   "metadata": {},
   "source": [
    "Let us revisit the 15th-order polynomial model using the 'sqft_living' input. Generate polynomial features up to degree 15 using `polynomial_sframe()` and fit a model with these features. When fitting the model, use an L2 penalty of `1e-5`:"
   ]
  },
  {
   "cell_type": "code",
   "execution_count": 64,
   "metadata": {
    "collapsed": true
   },
   "outputs": [],
   "source": [
    "l2_small_penalty = 1.5e-5"
   ]
  },
  {
   "cell_type": "markdown",
   "metadata": {},
   "source": [
    "Note: When we have so many features and so few data points, the solution can become highly numerically unstable, which can sometimes lead to strange unpredictable results.  Thus, rather than using no regularization, we will introduce a tiny amount of regularization (`l2_penalty=1e-5`) to make the solution numerically stable.  (In lecture, we discussed the fact that regularization can also help with numerical stability, and here we are seeing a practical example.)\n",
    "\n",
    "With the L2 penalty specified above, fit the model and print out the learned weights.\n",
    "\n",
    "Hint: make sure to add 'price' column to the new SFrame before calling `graphlab.linear_regression.create()`. Also, make sure GraphLab Create doesn't create its own validation set by using the option `validation_set=None` in this call."
   ]
  },
  {
   "cell_type": "code",
   "execution_count": 49,
   "metadata": {
    "collapsed": false
   },
   "outputs": [
    {
     "data": {
      "text/html": [
       "<div>\n",
       "<table border=\"1\" class=\"dataframe\">\n",
       "  <thead>\n",
       "    <tr style=\"text-align: right;\">\n",
       "      <th></th>\n",
       "      <th>power_1</th>\n",
       "      <th>power_2</th>\n",
       "      <th>power_3</th>\n",
       "      <th>power_4</th>\n",
       "      <th>power_5</th>\n",
       "      <th>power_6</th>\n",
       "      <th>power_7</th>\n",
       "      <th>power_8</th>\n",
       "      <th>power_9</th>\n",
       "      <th>power_10</th>\n",
       "      <th>power_11</th>\n",
       "      <th>power_12</th>\n",
       "      <th>power_13</th>\n",
       "      <th>power_14</th>\n",
       "      <th>power_15</th>\n",
       "    </tr>\n",
       "  </thead>\n",
       "  <tbody>\n",
       "    <tr>\n",
       "      <th>19452</th>\n",
       "      <td>290</td>\n",
       "      <td>84100</td>\n",
       "      <td>24389000</td>\n",
       "      <td>7072810000</td>\n",
       "      <td>2.051115e+12</td>\n",
       "      <td>5.948233e+14</td>\n",
       "      <td>1.724988e+17</td>\n",
       "      <td>5.002464e+19</td>\n",
       "      <td>1.450715e+22</td>\n",
       "      <td>4.207072e+24</td>\n",
       "      <td>1.220051e+27</td>\n",
       "      <td>3.538148e+29</td>\n",
       "      <td>1.026063e+32</td>\n",
       "      <td>2.975582e+34</td>\n",
       "      <td>8.629189e+36</td>\n",
       "    </tr>\n",
       "    <tr>\n",
       "      <th>15381</th>\n",
       "      <td>370</td>\n",
       "      <td>136900</td>\n",
       "      <td>50653000</td>\n",
       "      <td>18741610000</td>\n",
       "      <td>6.934396e+12</td>\n",
       "      <td>2.565726e+15</td>\n",
       "      <td>9.493188e+17</td>\n",
       "      <td>3.512479e+20</td>\n",
       "      <td>1.299617e+23</td>\n",
       "      <td>4.808584e+25</td>\n",
       "      <td>1.779176e+28</td>\n",
       "      <td>6.582952e+30</td>\n",
       "      <td>2.435692e+33</td>\n",
       "      <td>9.012061e+35</td>\n",
       "      <td>3.334463e+38</td>\n",
       "    </tr>\n",
       "    <tr>\n",
       "      <th>860</th>\n",
       "      <td>380</td>\n",
       "      <td>144400</td>\n",
       "      <td>54872000</td>\n",
       "      <td>20851360000</td>\n",
       "      <td>7.923517e+12</td>\n",
       "      <td>3.010936e+15</td>\n",
       "      <td>1.144156e+18</td>\n",
       "      <td>4.347792e+20</td>\n",
       "      <td>1.652161e+23</td>\n",
       "      <td>6.278212e+25</td>\n",
       "      <td>2.385721e+28</td>\n",
       "      <td>9.065738e+30</td>\n",
       "      <td>3.444980e+33</td>\n",
       "      <td>1.309093e+36</td>\n",
       "      <td>4.974552e+38</td>\n",
       "    </tr>\n",
       "    <tr>\n",
       "      <th>18379</th>\n",
       "      <td>384</td>\n",
       "      <td>147456</td>\n",
       "      <td>56623104</td>\n",
       "      <td>21743271936</td>\n",
       "      <td>8.349416e+12</td>\n",
       "      <td>3.206176e+15</td>\n",
       "      <td>1.231172e+18</td>\n",
       "      <td>4.727699e+20</td>\n",
       "      <td>1.815436e+23</td>\n",
       "      <td>6.971275e+25</td>\n",
       "      <td>2.676970e+28</td>\n",
       "      <td>1.027956e+31</td>\n",
       "      <td>3.947353e+33</td>\n",
       "      <td>1.515783e+36</td>\n",
       "      <td>5.820608e+38</td>\n",
       "    </tr>\n",
       "    <tr>\n",
       "      <th>4868</th>\n",
       "      <td>390</td>\n",
       "      <td>152100</td>\n",
       "      <td>59319000</td>\n",
       "      <td>23134410000</td>\n",
       "      <td>9.022420e+12</td>\n",
       "      <td>3.518744e+15</td>\n",
       "      <td>1.372310e+18</td>\n",
       "      <td>5.352009e+20</td>\n",
       "      <td>2.087284e+23</td>\n",
       "      <td>8.140406e+25</td>\n",
       "      <td>3.174758e+28</td>\n",
       "      <td>1.238156e+31</td>\n",
       "      <td>4.828807e+33</td>\n",
       "      <td>1.883235e+36</td>\n",
       "      <td>7.344616e+38</td>\n",
       "    </tr>\n",
       "  </tbody>\n",
       "</table>\n",
       "</div>"
      ],
      "text/plain": [
       "       power_1  power_2   power_3      power_4       power_5       power_6  \\\n",
       "19452      290    84100  24389000   7072810000  2.051115e+12  5.948233e+14   \n",
       "15381      370   136900  50653000  18741610000  6.934396e+12  2.565726e+15   \n",
       "860        380   144400  54872000  20851360000  7.923517e+12  3.010936e+15   \n",
       "18379      384   147456  56623104  21743271936  8.349416e+12  3.206176e+15   \n",
       "4868       390   152100  59319000  23134410000  9.022420e+12  3.518744e+15   \n",
       "\n",
       "            power_7       power_8       power_9      power_10      power_11  \\\n",
       "19452  1.724988e+17  5.002464e+19  1.450715e+22  4.207072e+24  1.220051e+27   \n",
       "15381  9.493188e+17  3.512479e+20  1.299617e+23  4.808584e+25  1.779176e+28   \n",
       "860    1.144156e+18  4.347792e+20  1.652161e+23  6.278212e+25  2.385721e+28   \n",
       "18379  1.231172e+18  4.727699e+20  1.815436e+23  6.971275e+25  2.676970e+28   \n",
       "4868   1.372310e+18  5.352009e+20  2.087284e+23  8.140406e+25  3.174758e+28   \n",
       "\n",
       "           power_12      power_13      power_14      power_15  \n",
       "19452  3.538148e+29  1.026063e+32  2.975582e+34  8.629189e+36  \n",
       "15381  6.582952e+30  2.435692e+33  9.012061e+35  3.334463e+38  \n",
       "860    9.065738e+30  3.444980e+33  1.309093e+36  4.974552e+38  \n",
       "18379  1.027956e+31  3.947353e+33  1.515783e+36  5.820608e+38  \n",
       "4868   1.238156e+31  4.828807e+33  1.883235e+36  7.344616e+38  "
      ]
     },
     "execution_count": 49,
     "metadata": {},
     "output_type": "execute_result"
    }
   ],
   "source": [
    "poly15 = polynomial_sframe(sales['sqft_living'], 15)\n",
    "#poly15['price'] = sales['price']\n",
    "poly15.head()"
   ]
  },
  {
   "cell_type": "code",
   "execution_count": 58,
   "metadata": {
    "collapsed": false
   },
   "outputs": [],
   "source": [
    "## need to define poly15 as numpy array for the ridge regression\n",
    "poly15_n = np.array(poly15)\n",
    "price_n = np.array(sales['price'])\n",
    "price_n = price_n.reshape(len(sales),1)\n"
   ]
  },
  {
   "cell_type": "markdown",
   "metadata": {},
   "source": [
    "## Ridge regression with tiny tolerance"
   ]
  },
  {
   "cell_type": "code",
   "execution_count": 65,
   "metadata": {
    "collapsed": false
   },
   "outputs": [
    {
     "name": "stdout",
     "output_type": "stream",
     "text": [
      "[[  1.24873306e+02  -4.77376011e-02   3.01446238e-05  -2.44419942e-09\n",
      "   -1.94153675e-13   8.54085686e-18   1.51142121e-21   8.27979094e-26\n",
      "    6.52603100e-31  -3.27895017e-34  -3.87962315e-38  -2.72437650e-42\n",
      "   -1.07790800e-46   3.78242694e-51   1.39790296e-54]] [ 220664.37505438]\n",
      "Learned value for coefficient on power_1 is: 124.873306481\n"
     ]
    }
   ],
   "source": [
    "lr = Ridge(alpha = l2_small_penalty , normalize = True)\n",
    "lr.fit(poly15_n,price_n)\n",
    "lr.get_params\n",
    "print lr.coef_, lr.intercept_\n",
    "\n",
    "print('Learned value for coefficient on power_1 is: {}'.format(lr.coef_[0][0]))"
   ]
  },
  {
   "cell_type": "code",
   "execution_count": 62,
   "metadata": {
    "collapsed": true
   },
   "outputs": [],
   "source": [
    "# not getting results i should be getting\n",
    "# downloaded data again, may be slightly different dataset\n",
    "sales1 = pd.read_csv('kc_house_data.csv', \n",
    "                    dtype=dtype_dict)\n",
    "\n",
    "poly15_new = polynomial_sframe(sales1['sqft_living'], 15)"
   ]
  },
  {
   "cell_type": "code",
   "execution_count": 73,
   "metadata": {
    "collapsed": false
   },
   "outputs": [
    {
     "name": "stdout",
     "output_type": "stream",
     "text": [
      "[  1.24873306e+02  -4.77376011e-02   3.01446238e-05  -2.44419942e-09\n",
      "  -1.94153675e-13   8.54085686e-18   1.51142121e-21   8.27979094e-26\n",
      "   6.52603100e-31  -3.27895017e-34  -3.87962315e-38  -2.72437650e-42\n",
      "  -1.07790800e-46   3.78242694e-51   1.39790296e-54] 220664.375054\n"
     ]
    },
    {
     "data": {
      "text/plain": [
       "[<matplotlib.lines.Line2D at 0x21d0a630>,\n",
       " <matplotlib.lines.Line2D at 0x21d0a828>]"
      ]
     },
     "execution_count": 73,
     "metadata": {},
     "output_type": "execute_result"
    },
    {
     "data": {
      "image/png": "[encoded data removed]",
      "text/plain": [
       "<matplotlib.figure.Figure at 0x2193c2e8>"
      ]
     },
     "metadata": {},
     "output_type": "display_data"
    }
   ],
   "source": [
    "lr_new = Ridge(alpha = l2_small_penalty , normalize = True)\n",
    "lr_new.fit(poly15_new, sales1['price'])\n",
    "lr_new.get_params\n",
    "print lr_new.coef_, lr_new.intercept_\n",
    "\n",
    "#print('Learned value for coefficient on power_1 is: {}'.format(lr.coef_[0][0]))\n",
    "plt.plot(poly15_new['power_1'], sales1['price'],'.',\n",
    "       poly15_new['power_1'], lr_new.predict(poly15_new))"
   ]
  },
  {
   "cell_type": "markdown",
   "metadata": {},
   "source": [
    "***QUIZ QUESTION:  What's the learned value for the coefficient of feature `power_1`?***"
   ]
  },
  {
   "cell_type": "markdown",
   "metadata": {},
   "source": [
    "# Observe overfitting"
   ]
  },
  {
   "cell_type": "markdown",
   "metadata": {},
   "source": [
    "Recall from Week 3 that the polynomial fit of degree 15 changed wildly whenever the data changed. In particular, when we split the sales data into four subsets and fit the model of degree 15, the result came out to be very different for each subset. The model had a *high variance*. We will see in a moment that ridge regression reduces such variance. But first, we must reproduce the experiment we did in Week 3."
   ]
  },
  {
   "cell_type": "markdown",
   "metadata": {},
   "source": [
    "First, split the data into split the sales data into four subsets of roughly equal size and call them `set_1`, `set_2`, `set_3`, and `set_4`. Use `.random_split` function and make sure you set `seed=0`. "
   ]
  },
  {
   "cell_type": "code",
   "execution_count": 9,
   "metadata": {
    "collapsed": true
   },
   "outputs": [],
   "source": [
    "#(semi_split1, semi_split2) = sales.random_split(.5,seed=0)\n",
    "#(set_1, set_2) = semi_split1.random_split(0.5, seed=0)\n",
    "#(set_3, set_4) = semi_split2.random_split(0.5, seed=0)\n",
    "\n",
    "set_1  = pd.read_csv('C:\\Users\\dfoley\\Dropbox\\Machine Learning\\PythonCoursera\\Regression\\RegressionWeek3\\wk3_kc_house_set_1_data.csv',\n",
    "                     dtype=dtype_dict)\n",
    "set_2  = pd.read_csv('C:\\Users\\dfoley\\Dropbox\\Machine Learning\\PythonCoursera\\Regression\\RegressionWeek3\\wk3_kc_house_set_2_data.csv',\n",
    "                     dtype=dtype_dict)\n",
    "set_3  = pd.read_csv('C:\\Users\\dfoley\\Dropbox\\Machine Learning\\PythonCoursera\\Regression\\RegressionWeek3\\wk3_kc_house_set_3_data.csv',\n",
    "                     dtype=dtype_dict)\n",
    "set_4  = pd.read_csv('C:\\Users\\dfoley\\Dropbox\\Machine Learning\\PythonCoursera\\Regression\\RegressionWeek3\\wk3_kc_house_set_4_data.csv',\n",
    "                     dtype=dtype_dict)\n",
    "\n",
    "# sort data\n",
    "set_1 = set_1.sort(['sqft_living','price'])\n",
    "set_2 = set_2.sort(['sqft_living','price'])\n",
    "set_3 = set_3.sort(['sqft_living','price'])\n",
    "set_4 = set_4.sort(['sqft_living','price'])\n",
    "\n",
    "# 15 degree polynomial and add price column to each data set\n",
    "p1_set_1 = polynomial_sframe(set_1['sqft_living'], 15)\n",
    "p1_set_1['price'] = set_1['price']\n",
    "\n",
    "p1_set_2 = polynomial_sframe(set_2['sqft_living'], 15)\n",
    "p1_set_2['price'] = set_2['price']\n",
    "\n",
    "p1_set_3 = polynomial_sframe(set_3['sqft_living'], 15)\n",
    "p1_set_3['price'] = set_3['price']\n",
    "\n",
    "p1_set_4 = polynomial_sframe(set_4['sqft_living'], 15)\n",
    "p1_set_4['price'] = set_4['price']"
   ]
  },
  {
   "cell_type": "code",
   "execution_count": 10,
   "metadata": {
    "collapsed": true
   },
   "outputs": [],
   "source": [
    "features = ['power_1', 'power_2', 'power_3', 'power_4', 'power_5', 'power_6','power_7', 'power_8', 'power_9', 'power_10',\n",
    "           'power_11', 'power_12', 'power_13', 'power_14', 'power_15']"
   ]
  },
  {
   "cell_type": "markdown",
   "metadata": {},
   "source": [
    "Next, fit a 15th degree polynomial on `set_1`, `set_2`, `set_3`, and `set_4`, using 'sqft_living' to predict prices. Print the weights and make a plot of the resulting model.\n",
    "\n",
    "Hint: When calling `graphlab.linear_regression.create()`, use the same L2 penalty as before (i.e. `l2_small_penalty`).  Also, make sure GraphLab Create doesn't create its own validation set by using the option `validation_set = None` in this call."
   ]
  },
  {
   "cell_type": "code",
   "execution_count": 67,
   "metadata": {
    "collapsed": true
   },
   "outputs": [],
   "source": [
    "l2_small_penalty_new=1e-9"
   ]
  },
  {
   "cell_type": "code",
   "execution_count": 87,
   "metadata": {
    "collapsed": false
   },
   "outputs": [
    {
     "name": "stdout",
     "output_type": "stream",
     "text": [
      "[  1.24873306e+02  -4.77376011e-02   3.01446238e-05  -2.44419942e-09\n",
      "  -1.94153675e-13   8.54085686e-18   1.51142121e-21   8.27979094e-26\n",
      "   6.52603100e-31  -3.27895017e-34  -3.87962315e-38  -2.72437650e-42\n",
      "  -1.07790800e-46   3.78242694e-51   1.39790296e-54] 220664.375054\n",
      "[ 345918.86969568  613319.60711402  301365.48220606 ...,  327510.07392112\n",
      "  403859.05263677  327510.07392112]\n"
     ]
    },
    {
     "data": {
      "image/png": "[encoded data removed]",
      "text/plain": [
       "<matplotlib.figure.Figure at 0x2ecd0898>"
      ]
     },
     "metadata": {},
     "output_type": "display_data"
    }
   ],
   "source": [
    "lr_new = Ridge(alpha = l2_small_penalty , normalize = True)\n",
    "lr_new.fit(poly15_new, sales1['price'])\n",
    "lr_new.get_params\n",
    "print lr_new.coef_, lr_new.intercept_\n",
    "\n",
    "plt.plot(poly15_new['power_1'], sales1['price'], '.',\n",
    "poly15_new['power_1'], lr_new.predict(poly15_new),'.')\n",
    "\n",
    "print lr_new.predict(poly15_new)"
   ]
  },
  {
   "cell_type": "code",
   "execution_count": 89,
   "metadata": {
    "collapsed": false
   },
   "outputs": [
    {
     "name": "stdout",
     "output_type": "stream",
     "text": [
      "[  2.69062840e-77  -4.25459861e-39   1.28360819e-44   1.84439039e-49\n",
      "   2.22160806e-53   2.09519622e-57   3.62466022e-55   1.49667051e-51\n",
      "   5.73503052e-48   1.95015188e-44   5.37537391e-41   9.37452641e-38\n",
      "  -3.62324592e-41   4.63847489e-45  -1.96475563e-49] 506874.172184\n"
     ]
    },
    {
     "data": {
      "text/plain": [
       "[<matplotlib.lines.Line2D at 0x225ab208>,\n",
       " <matplotlib.lines.Line2D at 0x225abbe0>]"
      ]
     },
     "execution_count": 89,
     "metadata": {},
     "output_type": "execute_result"
    },
    {
     "data": {
      "image/png": "[encoded data removed]",
      "text/plain": [
       "<matplotlib.figure.Figure at 0x2e63ba20>"
      ]
     },
     "metadata": {},
     "output_type": "display_data"
    }
   ],
   "source": [
    "lr2_reg = LinearRegression(fit_intercept = True)\n",
    "lr2_reg.fit(p1_set_2[features],p1_set_2['price'] )\n",
    "lr2_reg.get_params\n",
    "print lr2_reg.coef_, lr2_reg.intercept_\n",
    "predict_set_2 = lr2_reg.predict(p1_set_2[features])\n",
    "\n",
    "##plot\n",
    "plt.plot(p1_set_2['power_1'], p1_set_2['price'],'.',\n",
    "       p1_set_2['power_1'], predict_set_2, '-')"
   ]
  },
  {
   "cell_type": "code",
   "execution_count": null,
   "metadata": {
    "collapsed": true
   },
   "outputs": [],
   "source": []
  },
  {
   "cell_type": "markdown",
   "metadata": {},
   "source": [
    "## Model 1"
   ]
  },
  {
   "cell_type": "code",
   "execution_count": 12,
   "metadata": {
    "collapsed": false
   },
   "outputs": [
    {
     "name": "stdout",
     "output_type": "stream",
     "text": [
      "[  3.05794169e-90  -8.00843882e-49  -8.88772669e-55  -3.58488302e-60\n",
      "   8.73539188e-76   1.10358334e-70   8.37724029e-67   6.23411957e-63\n",
      "   4.49156443e-59   3.06938763e-55   1.91749300e-51   1.01335180e-47\n",
      "   3.62176959e-44  -5.63501661e-48   2.18641117e-52] 539058.818664\n"
     ]
    },
    {
     "data": {
      "text/plain": [
       "[<matplotlib.lines.Line2D at 0x1a3cdba8>,\n",
       " <matplotlib.lines.Line2D at 0x1a3cdda0>]"
      ]
     },
     "execution_count": 12,
     "metadata": {},
     "output_type": "execute_result"
    },
    {
     "data": {
      "image/png": "[encoded data removed]",
      "text/plain": [
       "<matplotlib.figure.Figure at 0x18602ac8>"
      ]
     },
     "metadata": {},
     "output_type": "display_data"
    }
   ],
   "source": [
    "lr1_reg = LinearRegression(fit_intercept = True)\n",
    "lr1_reg.fit(p1_set_1[features],p1_set_1['price'])\n",
    "lr1_reg.get_params\n",
    "print lr1_reg.coef_, lr1_reg.intercept_\n",
    "predict_set_1 = lr1_reg.predict(p1_set_1[features])\n",
    "\n",
    "## PLot model\n"
   ]
  },
  {
   "cell_type": "markdown",
   "metadata": {},
   "source": [
    "## Model 2"
   ]
  },
  {
   "cell_type": "code",
   "execution_count": 60,
   "metadata": {
    "collapsed": false
   },
   "outputs": [
    {
     "name": "stdout",
     "output_type": "stream",
     "text": [
      "[  2.69062840e-77  -4.25459861e-39   1.28360819e-44   1.84439039e-49\n",
      "   2.22160806e-53   2.09519622e-57   3.62466022e-55   1.49667051e-51\n",
      "   5.73503052e-48   1.95015188e-44   5.37537391e-41   9.37452641e-38\n",
      "  -3.62324592e-41   4.63847489e-45  -1.96475563e-49] 506874.172184\n"
     ]
    },
    {
     "data": {
      "text/plain": [
       "[<matplotlib.lines.Line2D at 0x1ff4e320>,\n",
       " <matplotlib.lines.Line2D at 0x1ff4e518>]"
      ]
     },
     "execution_count": 60,
     "metadata": {},
     "output_type": "execute_result"
    },
    {
     "data": {
      "image/png": "[encoded data removed]",
      "text/plain": [
       "<matplotlib.figure.Figure at 0x1f194da0>"
      ]
     },
     "metadata": {},
     "output_type": "display_data"
    }
   ],
   "source": [
    "\n",
    "lr2_reg = LinearRegression(fit_intercept = True)\n",
    "lr2_reg.fit(p1_set_2[features],p1_set_2['price'] )\n",
    "lr2_reg.get_params\n",
    "print lr2_reg.coef_, lr2_reg.intercept_\n",
    "predict_set_2 = lr2_reg.predict(p1_set_2[features])\n",
    "\n",
    "##plot\n",
    "plt.plot(p1_set_2['power_1'], p1_set_2['price'],'.',\n",
    "       p1_set_2['power_1'], predict_set_2, '-')"
   ]
  },
  {
   "cell_type": "markdown",
   "metadata": {},
   "source": [
    "## Model 3"
   ]
  },
  {
   "cell_type": "code",
   "execution_count": 13,
   "metadata": {
    "collapsed": false
   },
   "outputs": [
    {
     "name": "stdout",
     "output_type": "stream",
     "text": [
      "[  2.83751934e-88  -9.22064721e-49   2.94737940e-55   6.88968056e-60\n",
      "   1.69618195e-72   4.27894907e-69   2.68009626e-65   1.63911362e-61\n",
      "   9.66435015e-58   5.38044653e-54   2.72563636e-50   1.16253248e-46\n",
      "   3.33756141e-43  -6.76238818e-47   3.43132932e-51] 530874.316653\n"
     ]
    },
    {
     "data": {
      "text/plain": [
       "[<matplotlib.lines.Line2D at 0x1a2ab240>,\n",
       " <matplotlib.lines.Line2D at 0x1a2ab438>]"
      ]
     },
     "execution_count": 13,
     "metadata": {},
     "output_type": "execute_result"
    },
    {
     "data": {
      "image/png": "[encoded data removed]",
      "text/plain": [
       "<matplotlib.figure.Figure at 0x19faf4a8>"
      ]
     },
     "metadata": {},
     "output_type": "display_data"
    }
   ],
   "source": [
    "lr3_reg = LinearRegression(fit_intercept = True)\n",
    "lr3_reg.fit(p1_set_3[features],p1_set_3['price'] )\n",
    "lr3_reg.get_params\n",
    "print lr3_reg.coef_, lr3_reg.intercept_\n",
    "predict_set_3 = lr3_reg.predict(p1_set_3[features])\n",
    "\n",
    "##plot\n",
    "plt.plot(p1_set_3['power_1'], p1_set_3['price'],'.',\n",
    "       p1_set_3['power_1'], predict_set_3, '-')"
   ]
  },
  {
   "cell_type": "markdown",
   "metadata": {},
   "source": [
    "## Model 4"
   ]
  },
  {
   "cell_type": "code",
   "execution_count": 14,
   "metadata": {
    "collapsed": false
   },
   "outputs": [
    {
     "name": "stdout",
     "output_type": "stream",
     "text": [
      "[  1.37128601e-76  -4.21258464e-39  -5.78210077e-44   5.63264286e-49\n",
      "  -8.46590678e-54   3.88705187e-58   1.27061358e-54   4.87824476e-51\n",
      "   1.73529590e-47   5.46986988e-44   1.39567134e-40   2.25005676e-37\n",
      "  -9.43802328e-41   1.31552210e-44  -6.09069569e-49] 494824.762138\n"
     ]
    },
    {
     "data": {
      "text/plain": [
       "[<matplotlib.lines.Line2D at 0x1a695630>,\n",
       " <matplotlib.lines.Line2D at 0x1a695828>]"
      ]
     },
     "execution_count": 14,
     "metadata": {},
     "output_type": "execute_result"
    },
    {
     "data": {
      "image/png": "[encoded data removed]",
      "text/plain": [
       "<matplotlib.figure.Figure at 0x1a5ef668>"
      ]
     },
     "metadata": {},
     "output_type": "display_data"
    }
   ],
   "source": [
    "lr4_reg = LinearRegression(fit_intercept = True)\n",
    "lr4_reg.fit(p1_set_4[features],p1_set_4['price'] )\n",
    "lr4_reg.get_params\n",
    "print lr4_reg.coef_, lr4_reg.intercept_\n",
    "predict_set_4 = lr4_reg.predict(p1_set_4[features])\n",
    "\n",
    "##plot\n",
    "plt.plot(p1_set_4['power_1'], p1_set_4['price'],'.',\n",
    "       p1_set_4['power_1'], predict_set_4, '-')"
   ]
  },
  {
   "cell_type": "markdown",
   "metadata": {},
   "source": [
    "The four curves should differ from one another a lot, as should the coefficients you learned.\n",
    "\n",
    "***QUIZ QUESTION:  For the models learned in each of these training sets, what are the smallest and largest values you learned for the coefficient of feature `power_1`?***  (For the purpose of answering this question, negative numbers are considered \"smaller\" than positive numbers. So -5 is smaller than -3, and -3 is smaller than 5 and so forth.)"
   ]
  },
  {
   "cell_type": "markdown",
   "metadata": {},
   "source": [
    "## Model 1 had highest value for power_1 Model 4 had the lowest value"
   ]
  },
  {
   "cell_type": "markdown",
   "metadata": {},
   "source": [
    "# Ridge regression comes to rescue"
   ]
  },
  {
   "cell_type": "markdown",
   "metadata": {},
   "source": [
    "Generally, whenever we see weights change so much in response to change in data, we believe the variance of our estimate to be large. Ridge regression aims to address this issue by penalizing \"large\" weights. (Weights of `model15` looked quite small, but they are not that small because 'sqft_living' input is in the order of thousands.)\n",
    "\n",
    "With the argument `l2_penalty=1e5`, fit a 15th-order polynomial model on `set_1`, `set_2`, `set_3`, and `set_4`. Other than the change in the `l2_penalty` parameter, the code should be the same as the experiment above. Also, make sure GraphLab Create doesn't create its own validation set by using the option `validation_set = None` in this call."
   ]
  },
  {
   "cell_type": "markdown",
   "metadata": {},
   "source": [
    "# Very Important, results were strange when I put in an intercept - became normal after adding normalize = True"
   ]
  },
  {
   "cell_type": "code",
   "execution_count": 103,
   "metadata": {
    "collapsed": false,
    "scrolled": false
   },
   "outputs": [
    {
     "name": "stdout",
     "output_type": "stream",
     "text": [
      "[  2.32806803e+00   3.53621608e-04   3.31969692e-08   2.00082477e-12\n",
      "   1.11492559e-16   6.57786122e-21   4.12939525e-25   2.70393755e-29\n",
      "   1.81614763e-33   1.23824277e-37   8.51872481e-42   5.89455598e-46\n",
      "   4.09542560e-50   2.85464889e-54   1.99547476e-58] 539103.031058\n"
     ]
    },
    {
     "data": {
      "text/plain": [
       "[<matplotlib.lines.Line2D at 0x340a8208>,\n",
       " <matplotlib.lines.Line2D at 0x340a8400>]"
      ]
     },
     "execution_count": 103,
     "metadata": {},
     "output_type": "execute_result"
    },
    {
     "data": {
      "image/png": "[encoded data removed]",
      "text/plain": [
       "<matplotlib.figure.Figure at 0x2ea86240>"
      ]
     },
     "metadata": {},
     "output_type": "display_data"
    }
   ],
   "source": [
    "lr_ridge1 = Ridge(alpha = 1.23e2, normalize=True)\n",
    "lr_ridge1.fit(p1_set_1[features], p1_set_1['price'])\n",
    "lr_ridge1.get_params\n",
    "print lr_ridge1.coef_, lr_ridge1.intercept_\n",
    "predict_ridge1 = lr_ridge1.predict(p1_set_1[features])\n",
    "#plot \n",
    "plt.plot(p1_set_1['power_1'], p1_set_1['price'], '.',\n",
    "p1_set_1['power_1'], predict_ridge1, '-') # dont know why this is plotting strangely\n"
   ]
  },
  {
   "cell_type": "code",
   "execution_count": 100,
   "metadata": {
    "collapsed": false
   },
   "outputs": [
    {
     "name": "stdout",
     "output_type": "stream",
     "text": [
      "[  2.09756903e+00   3.90817483e-04   6.67189944e-08   8.90002997e-12\n",
      "   9.72639877e-16   9.69733682e-20   9.50564475e-24   9.44491031e-28\n",
      "   9.57191338e-32   9.86945155e-36   1.03101115e-39   1.08729784e-43\n",
      "   1.15453748e-47   1.23211305e-51   1.31986696e-55] 529853.025358\n"
     ]
    },
    {
     "data": {
      "text/plain": [
       "[<matplotlib.lines.Line2D at 0x326d4a58>,\n",
       " <matplotlib.lines.Line2D at 0x326d4c50>]"
      ]
     },
     "execution_count": 100,
     "metadata": {},
     "output_type": "execute_result"
    },
    {
     "data": {
      "image/png": "[encoded data removed]",
      "text/plain": [
       "<matplotlib.figure.Figure at 0x34192400>"
      ]
     },
     "metadata": {},
     "output_type": "display_data"
    }
   ],
   "source": [
    "lr_ridge2 = Ridge(alpha = 1.23e2, normalize=True)\n",
    "lr_ridge2.fit(p1_set_2[features], p1_set_2['price'])\n",
    "lr_ridge2.get_params\n",
    "print lr_ridge2.coef_, lr_ridge2.intercept_\n",
    "predict_ridge2 = lr_ridge2.predict(p1_set_2[features])\n",
    "\n",
    "plt.plot(p1_set_2['power_1'], p1_set_2['price'], '.',\n",
    "p1_set_2['power_1'], predict_ridge2,'-')"
   ]
  },
  {
   "cell_type": "code",
   "execution_count": 99,
   "metadata": {
    "collapsed": false,
    "scrolled": false
   },
   "outputs": [
    {
     "name": "stdout",
     "output_type": "stream",
     "text": [
      "[  2.28906258e+00   4.12472190e-04   6.08835345e-08   6.58572163e-12\n",
      "   6.15278155e-16   5.64446634e-20   5.28834396e-24   5.07091402e-28\n",
      "   4.94657273e-32   4.88043809e-36   4.85009106e-40   4.84161534e-44\n",
      "   4.84635021e-48   4.85883628e-52   4.87558469e-56] 533640.114097\n"
     ]
    },
    {
     "data": {
      "text/plain": [
       "[<matplotlib.lines.Line2D at 0x2e795780>,\n",
       " <matplotlib.lines.Line2D at 0x2e795978>]"
      ]
     },
     "execution_count": 99,
     "metadata": {},
     "output_type": "execute_result"
    },
    {
     "data": {
      "image/png": "[encoded data removed]",
      "text/plain": [
       "<matplotlib.figure.Figure at 0x27851780>"
      ]
     },
     "metadata": {},
     "output_type": "display_data"
    }
   ],
   "source": [
    "lr_ridge3 = Ridge(alpha = 1.23e2, normalize = True)\n",
    "lr_ridge3.fit(p1_set_3[features], p1_set_3['price'])\n",
    "lr_ridge3.get_params\n",
    "print lr_ridge3.coef_, lr_ridge3.intercept_\n",
    "predict_ridge3 = lr_ridge3.predict(p1_set_3[features])\n",
    "\n",
    "plt.plot(p1_set_3['power_1'], p1_set_3['price'], '.',\n",
    "p1_set_3['power_1'], predict_ridge3)"
   ]
  },
  {
   "cell_type": "code",
   "execution_count": 104,
   "metadata": {
    "collapsed": false
   },
   "outputs": [
    {
     "name": "stdout",
     "output_type": "stream",
     "text": [
      "[  2.08596194e+00   4.05035772e-04   7.46864647e-08   1.13096608e-11\n",
      "   1.45864442e-15   1.73561251e-19   2.01609632e-23   2.34605255e-27\n",
      "   2.75636073e-31   3.27043069e-35   3.91046855e-39   4.70118041e-43\n",
      "   5.67212304e-47   6.85958087e-51   8.30843630e-55] 524562.969047\n"
     ]
    },
    {
     "data": {
      "text/plain": [
       "[<matplotlib.lines.Line2D at 0x2b8c9c88>,\n",
       " <matplotlib.lines.Line2D at 0x2b8c9e80>]"
      ]
     },
     "execution_count": 104,
     "metadata": {},
     "output_type": "execute_result"
    },
    {
     "data": {
      "image/png": "[encoded data removed]",
      "text/plain": [
       "<matplotlib.figure.Figure at 0x21b09e10>"
      ]
     },
     "metadata": {},
     "output_type": "display_data"
    }
   ],
   "source": [
    "lr_ridge4 = Ridge(alpha = 1.23e2, normalize=True)\n",
    "lr_ridge4.fit(p1_set_4[features], p1_set_4['price'])\n",
    "lr_ridge4.get_params\n",
    "print lr_ridge4.coef_, lr_ridge4.intercept_\n",
    "predict_ridge4 = lr_ridge4.predict(p1_set_4[features])\n",
    "\n",
    "plt.plot(p1_set_4['power_1'], p1_set_4['price'], '.',\n",
    "p1_set_4['power_1'], lr_ridge4.predict(p1_set_4[features]))"
   ]
  },
  {
   "cell_type": "code",
   "execution_count": null,
   "metadata": {
    "collapsed": false
   },
   "outputs": [],
   "source": []
  },
  {
   "cell_type": "markdown",
   "metadata": {},
   "source": [
    "These curves should vary a lot less, now that you applied a high degree of regularization.\n",
    "\n",
    "***QUIZ QUESTION:  For the models learned with the high level of regularization in each of these training sets, what are the smallest and largest values you learned for the coefficient of feature `power_1`?*** (For the purpose of answering this question, negative numbers are considered \"smaller\" than positive numbers. So -5 is smaller than -3, and -3 is smaller than 5 and so forth.)"
   ]
  },
  {
   "cell_type": "markdown",
   "metadata": {},
   "source": [
    "# Selecting an L2 penalty via cross-validation"
   ]
  },
  {
   "cell_type": "markdown",
   "metadata": {},
   "source": [
    "Just like the polynomial degree, the L2 penalty is a \"magic\" parameter we need to select. We could use the validation set approach as we did in the last module, but that approach has a major disadvantage: it leaves fewer observations available for training. **Cross-validation** seeks to overcome this issue by using all of the training set in a smart way.\n",
    "\n",
    "We will implement a kind of cross-validation called **k-fold cross-validation**. The method gets its name because it involves dividing the training set into k segments of roughtly equal size. Similar to the validation set method, we measure the validation error with one of the segments designated as the validation set. The major difference is that we repeat the process k times as follows:\n",
    "\n",
    "Set aside segment 0 as the validation set, and fit a model on rest of data, and evalutate it on this validation set<br>\n",
    "Set aside segment 1 as the validation set, and fit a model on rest of data, and evalutate it on this validation set<br>\n",
    "...<br>\n",
    "Set aside segment k-1 as the validation set, and fit a model on rest of data, and evalutate it on this validation set\n",
    "\n",
    "After this process, we compute the average of the k validation errors, and use it as an estimate of the generalization error. Notice that  all observations are used for both training and validation, as we iterate over segments of data. \n",
    "\n",
    "To estimate the generalization error well, it is crucial to shuffle the training data before dividing them into segments. GraphLab Create has a utility function for shuffling a given SFrame. We reserve 10% of the data as the test set and shuffle the remainder. (Make sure to use `seed=1` to get consistent answer.)"
   ]
  },
  {
   "cell_type": "code",
   "execution_count": null,
   "metadata": {
    "collapsed": true
   },
   "outputs": [],
   "source": [
    "(train_valid, test) = sales.random_split(.9, seed=1)\n",
    "train_valid_shuffled = graphlab.toolkits.cross_validation.shuffle(train_valid, random_seed=1)"
   ]
  },
  {
   "cell_type": "markdown",
   "metadata": {},
   "source": [
    "Once the data is shuffled, we divide it into equal segments. Each segment should receive `n/k` elements, where `n` is the number of observations in the training set and `k` is the number of segments. Since the segment 0 starts at index 0 and contains `n/k` elements, it ends at index `(n/k)-1`. The segment 1 starts where the segment 0 left off, at index `(n/k)`. With `n/k` elements, the segment 1 ends at index `(n*2/k)-1`. Continuing in this fashion, we deduce that the segment `i` starts at index `(n*i/k)` and ends at `(n*(i+1)/k)-1`."
   ]
  },
  {
   "cell_type": "markdown",
   "metadata": {},
   "source": [
    "With this pattern in mind, we write a short loop that prints the starting and ending indices of each segment, just to make sure you are getting the splits right."
   ]
  },
  {
   "cell_type": "code",
   "execution_count": null,
   "metadata": {
    "collapsed": true
   },
   "outputs": [],
   "source": [
    "n = len(train_valid_shuffled)\n",
    "k = 10 # 10-fold cross-validation\n",
    "\n",
    "for i in xrange(k):\n",
    "    start = (n*i)/k\n",
    "    end = (n*(i+1))/k-1\n",
    "    print i, (start, end)"
   ]
  },
  {
   "cell_type": "markdown",
   "metadata": {
    "collapsed": false
   },
   "source": [
    "Let us familiarize ourselves with array slicing with SFrame. To extract a continuous slice from an SFrame, use colon in square brackets. For instance, the following cell extracts rows 0 to 9 of `train_valid_shuffled`. Notice that the first index (0) is included in the slice but the last index (10) is omitted."
   ]
  },
  {
   "cell_type": "code",
   "execution_count": null,
   "metadata": {
    "collapsed": true
   },
   "outputs": [],
   "source": [
    "train_valid_shuffled[0:10] # rows 0 to 9"
   ]
  },
  {
   "cell_type": "markdown",
   "metadata": {},
   "source": [
    "Now let us extract individual segments with array slicing. Consider the scenario where we group the houses in the `train_valid_shuffled` dataframe into k=10 segments of roughly equal size, with starting and ending indices computed as above.\n",
    "Extract the fourth segment (segment 3) and assign it to a variable called `validation4`."
   ]
  },
  {
   "cell_type": "code",
   "execution_count": null,
   "metadata": {
    "collapsed": true
   },
   "outputs": [],
   "source": []
  },
  {
   "cell_type": "markdown",
   "metadata": {},
   "source": [
    "To verify that we have the right elements extracted, run the following cell, which computes the average price of the fourth segment. When rounded to nearest whole number, the average should be $536,234."
   ]
  },
  {
   "cell_type": "code",
   "execution_count": null,
   "metadata": {
    "collapsed": true
   },
   "outputs": [],
   "source": [
    "print int(round(validation4['price'].mean(), 0))"
   ]
  },
  {
   "cell_type": "markdown",
   "metadata": {},
   "source": [
    "After designating one of the k segments as the validation set, we train a model using the rest of the data. To choose the remainder, we slice (0:start) and (end+1:n) of the data and paste them together. SFrame has `append()` method that pastes together two disjoint sets of rows originating from a common dataset. For instance, the following cell pastes together the first and last two rows of the `train_valid_shuffled` dataframe."
   ]
  },
  {
   "cell_type": "code",
   "execution_count": null,
   "metadata": {
    "collapsed": true
   },
   "outputs": [],
   "source": [
    "n = len(train_valid_shuffled)\n",
    "first_two = train_valid_shuffled[0:2]\n",
    "last_two = train_valid_shuffled[n-2:n]\n",
    "print first_two.append(last_two)"
   ]
  },
  {
   "cell_type": "markdown",
   "metadata": {},
   "source": [
    "Extract the remainder of the data after *excluding* fourth segment (segment 3) and assign the subset to `train4`."
   ]
  },
  {
   "cell_type": "code",
   "execution_count": null,
   "metadata": {
    "collapsed": true
   },
   "outputs": [],
   "source": []
  },
  {
   "cell_type": "markdown",
   "metadata": {},
   "source": [
    "To verify that we have the right elements extracted, run the following cell, which computes the average price of the data with fourth segment excluded. When rounded to nearest whole number, the average should be $539,450."
   ]
  },
  {
   "cell_type": "code",
   "execution_count": null,
   "metadata": {
    "collapsed": true
   },
   "outputs": [],
   "source": [
    "print int(round(train4['price'].mean(), 0))"
   ]
  },
  {
   "cell_type": "markdown",
   "metadata": {},
   "source": [
    "Now we are ready to implement k-fold cross-validation. Write a function that computes k validation errors by designating each of the k segments as the validation set. It accepts as parameters (i) `k`, (ii) `l2_penalty`, (iii) dataframe, (iv) name of output column (e.g. `price`) and (v) list of feature names. The function returns the average validation error using k segments as validation sets.\n",
    "\n",
    "* For each i in [0, 1, ..., k-1]:\n",
    "  * Compute starting and ending indices of segment i and call 'start' and 'end'\n",
    "  * Form validation set by taking a slice (start:end+1) from the data.\n",
    "  * Form training set by appending slice (end+1:n) to the end of slice (0:start).\n",
    "  * Train a linear model using training set just formed, with a given l2_penalty\n",
    "  * Compute validation error using validation set just formed"
   ]
  },
  {
   "cell_type": "code",
   "execution_count": null,
   "metadata": {
    "collapsed": false
   },
   "outputs": [],
   "source": [
    "def k_fold_cross_validation(k, l2_penalty, data, output_name, features_list):\n",
    "    "
   ]
  },
  {
   "cell_type": "markdown",
   "metadata": {},
   "source": [
    "Once we have a function to compute the average validation error for a model, we can write a loop to find the model that minimizes the average validation error. Write a loop that does the following:\n",
    "* We will again be aiming to fit a 15th-order polynomial model using the `sqft_living` input\n",
    "* For `l2_penalty` in [10^1, 10^1.5, 10^2, 10^2.5, ..., 10^7] (to get this in Python, you can use this Numpy function: `np.logspace(1, 7, num=13)`.)\n",
    "    * Run 10-fold cross-validation with `l2_penalty`\n",
    "* Report which L2 penalty produced the lowest average validation error.\n",
    "\n",
    "Note: since the degree of the polynomial is now fixed to 15, to make things faster, you should generate polynomial features in advance and re-use them throughout the loop. Make sure to use `train_valid_shuffled` when generating polynomial features!"
   ]
  },
  {
   "cell_type": "code",
   "execution_count": null,
   "metadata": {
    "collapsed": true
   },
   "outputs": [],
   "source": []
  },
  {
   "cell_type": "markdown",
   "metadata": {},
   "source": [
    "***QUIZ QUESTIONS:  What is the best value for the L2 penalty according to 10-fold validation?***"
   ]
  },
  {
   "cell_type": "markdown",
   "metadata": {},
   "source": [
    "You may find it useful to plot the k-fold cross-validation errors you have obtained to better understand the behavior of the method.  "
   ]
  },
  {
   "cell_type": "code",
   "execution_count": null,
   "metadata": {
    "collapsed": true
   },
   "outputs": [],
   "source": [
    "# Plot the l2_penalty values in the x axis and the cross-validation error in the y axis.\n",
    "# Using plt.xscale('log') will make your plot more intuitive.\n",
    "\n"
   ]
  },
  {
   "cell_type": "markdown",
   "metadata": {},
   "source": [
    "Once you found the best value for the L2 penalty using cross-validation, it is important to retrain a final model on all of the training data using this value of `l2_penalty`.  This way, your final model will be trained on the entire dataset."
   ]
  },
  {
   "cell_type": "code",
   "execution_count": null,
   "metadata": {
    "collapsed": true
   },
   "outputs": [],
   "source": []
  },
  {
   "cell_type": "markdown",
   "metadata": {},
   "source": [
    "***QUIZ QUESTION: Using the best L2 penalty found above, train a model using all training data. What is the RSS on the TEST data of the model you learn with this L2 penalty? ***"
   ]
  },
  {
   "cell_type": "code",
   "execution_count": null,
   "metadata": {
    "collapsed": true
   },
   "outputs": [],
   "source": []
  }
 ],
 "metadata": {
  "kernelspec": {
   "display_name": "Python 2",
   "language": "python",
   "name": "python2"
  },
  "language_info": {
   "codemirror_mode": {
    "name": "ipython",
    "version": 2
   },
   "file_extension": ".py",
   "mimetype": "text/x-python",
   "name": "python",
   "nbconvert_exporter": "python",
   "pygments_lexer": "ipython2",
   "version": "2.7.10"
  }
 },
 "nbformat": 4,
 "nbformat_minor": 0
}
