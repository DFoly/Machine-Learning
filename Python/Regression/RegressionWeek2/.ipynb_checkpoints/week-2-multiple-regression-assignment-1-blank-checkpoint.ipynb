{
 "cells": [
  {
   "cell_type": "markdown",
   "metadata": {},
   "source": [
    "# Regression Week 2: Multiple Regression (Interpretation)"
   ]
  },
  {
   "cell_type": "markdown",
   "metadata": {},
   "source": [
    "The goal of this first notebook is to explore multiple regression and feature engineering with existing graphlab functions.\n",
    "\n",
    "In this notebook you will use data on house sales in King County to predict prices using multiple regression. You will:\n",
    "* Use SFrames to do some feature engineering\n",
    "* Use built-in graphlab functions to compute the regression weights (coefficients/parameters)\n",
    "* Given the regression weights, predictors and outcome write a function to compute the Residual Sum of Squares\n",
    "* Look at coefficients and interpret their meanings\n",
    "* Evaluate multiple models via RSS"
   ]
  },
  {
   "cell_type": "markdown",
   "metadata": {},
   "source": [
    "# Fire up graphlab create"
   ]
  },
  {
   "cell_type": "code",
   "execution_count": null,
   "metadata": {
    "collapsed": false
   },
   "outputs": [],
   "source": [
    "#import graphlab\n",
    "from sklearn.linear_model import LinearRegression\n",
    "import pandas as pd\n",
    "import numpy as np\n",
    "import matplotlib.pyplot as plt\n",
    "%matplotlib inline"
   ]
  },
  {
   "cell_type": "code",
   "execution_count": null,
   "metadata": {
    "collapsed": true
   },
   "outputs": [],
   "source": [
    "# define dictionary of data types\n",
    "dtype_dict = {'bathrooms':float, 'waterfront':int, 'sqft_above':int, 'sqft_living15':float, \n",
    "              'grade':int, 'yr_renovated':int, 'price':float, 'bedrooms':float, 'zipcode':str,\n",
    "              'long':float,'sqft_lot15':float,'sqft_living':float, 'floors':str, 'condition':int,\n",
    "              'lat':float, 'date':str, 'sqft_basement':int,'yr_built':int, 'id':str, \n",
    "              'sqft_lot':int, 'view':int}"
   ]
  },
  {
   "cell_type": "markdown",
   "metadata": {},
   "source": [
    "# Load in house sales data\n",
    "\n",
    "Dataset is from house sales in King County, the region where the city of Seattle, WA is located."
   ]
  },
  {
   "cell_type": "code",
   "execution_count": null,
   "metadata": {
    "collapsed": false,
    "scrolled": true
   },
   "outputs": [],
   "source": [
    "#sales = graphlab.SFrame('kc_house_data.gl/')\n",
    "train_Data = pd.read_csv('kc_house_train_data.csv', dtype = dtype_dict)\n",
    "test_Data = pd.read_csv('kc_house_test_data.csv',dtype = dtype_dict)\n",
    "sales = pd.read_csv('kc_house_data.csv', dtype = dtype_dict)\n",
    "print train_Data.head(), sales.head()"
   ]
  },
  {
   "cell_type": "markdown",
   "metadata": {},
   "source": [
    "# Split data into training and testing.\n",
    "We use seed=0 so that everyone running this notebook gets the same results.  In practice, you may set a random seed (or let GraphLab Create pick a random seed for you).  "
   ]
  },
  {
   "cell_type": "code",
   "execution_count": null,
   "metadata": {
    "collapsed": true
   },
   "outputs": [],
   "source": [
    "#train_data,test_data = sales.random_split(.8,seed=0)"
   ]
  },
  {
   "cell_type": "markdown",
   "metadata": {},
   "source": [
    "## Create X and y matrix for regression"
   ]
  },
  {
   "cell_type": "code",
   "execution_count": null,
   "metadata": {
    "collapsed": false
   },
   "outputs": [],
   "source": [
    "X = train_Data[['sqft_living', 'bedrooms', 'bathrooms']]\n",
    "X = np.array(X)\n",
    "X = np.insert(X,0,1,1)     # append column of ones\n",
    "y = train_Data['price']\n",
    "y = y.reshape(len(y),1)\n",
    "y = np.array(y)\n",
    "print X[0:4,:]\n",
    "print y.shape"
   ]
  },
  {
   "cell_type": "code",
   "execution_count": null,
   "metadata": {
    "collapsed": true
   },
   "outputs": [],
   "source": [
    "y = train_Data['price']\n",
    "y = y.reshape(len(y),1)\n",
    "y = np.array(y)"
   ]
  },
  {
   "cell_type": "code",
   "execution_count": null,
   "metadata": {
    "collapsed": true
   },
   "outputs": [],
   "source": [
    "X1 = sales[['sqft_living', 'bedrooms', 'bathrooms']]\n",
    "y1 = sales['price']"
   ]
  },
  {
   "cell_type": "markdown",
   "metadata": {},
   "source": [
    "## X and Y test data"
   ]
  },
  {
   "cell_type": "code",
   "execution_count": null,
   "metadata": {
    "collapsed": false
   },
   "outputs": [],
   "source": [
    "Xtest = test_Data[['sqft_living', 'bedrooms', 'bathrooms']]\n",
    "Xtest = np.array(Xtest)\n",
    "Xtest = np.insert(Xtest,0,1,1)\n",
    "ytest = test_Data['price']\n",
    "ytest = ytest.reshape(len(ytest),1)\n",
    "ytest = np.array(ytest)"
   ]
  },
  {
   "cell_type": "markdown",
   "metadata": {},
   "source": [
    "# Learning a multiple regression model"
   ]
  },
  {
   "cell_type": "markdown",
   "metadata": {},
   "source": [
    "Recall we can use the following code to learn a multiple regression model predicting 'price' based on the following features:\n",
    "example_features = ['sqft_living', 'bedrooms', 'bathrooms'] on training data with the following code:\n",
    "\n",
    "(Aside: We set validation_set = None to ensure that the results are always the same)"
   ]
  },
  {
   "cell_type": "markdown",
   "metadata": {},
   "source": [
    "## Linear Regression first using sklearn"
   ]
  },
  {
   "cell_type": "code",
   "execution_count": null,
   "metadata": {
    "collapsed": false
   },
   "outputs": [],
   "source": [
    "X1.shape"
   ]
  },
  {
   "cell_type": "code",
   "execution_count": null,
   "metadata": {
    "collapsed": false
   },
   "outputs": [],
   "source": [
    "\n",
    "lr = LinearRegression(fit_intercept = True)\n",
    "lr.fit(X,y)\n",
    "lr.get_params\n",
    "print lr.coef_, lr.intercept_\n",
    "p = map(lr.predict, X)"
   ]
  },
  {
   "cell_type": "markdown",
   "metadata": {},
   "source": [
    "## Now try manually\n"
   ]
  },
  {
   "cell_type": "code",
   "execution_count": null,
   "metadata": {
    "collapsed": false
   },
   "outputs": [],
   "source": [
    "\n",
    "print X.shape, y.shape"
   ]
  },
  {
   "cell_type": "code",
   "execution_count": null,
   "metadata": {
    "collapsed": false
   },
   "outputs": [],
   "source": [
    "# same as sklearn\n",
    "xx = X.T.dot(X)\n",
    "xy = X.T.dot(y)\n",
    "coef = np.linalg.inv(xx).dot(xy)\n",
    "print coef"
   ]
  },
  {
   "cell_type": "code",
   "execution_count": null,
   "metadata": {
    "collapsed": false
   },
   "outputs": [],
   "source": [
    "#example_features = ['sqft_living', 'bedrooms', 'bathrooms']\n",
    "#example_model = graphlab.linear_regression.create(train_data, target = 'price', features = example_features, \n",
    "#               validation_set = None)"
   ]
  },
  {
   "cell_type": "markdown",
   "metadata": {},
   "source": [
    "Now that we have fitted the model we can extract the regression weights (coefficients) as an SFrame as follows:"
   ]
  },
  {
   "cell_type": "code",
   "execution_count": null,
   "metadata": {
    "collapsed": false
   },
   "outputs": [],
   "source": [
    "#example_weight_summary = example_model.get(\"coefficients\")\n",
    "#print example_weight_summary"
   ]
  },
  {
   "cell_type": "markdown",
   "metadata": {},
   "source": [
    "# Making Predictions\n",
    "\n",
    "In the gradient descent notebook we use numpy to do our regression. In this book we will use existing graphlab create functions to analyze multiple regressions. \n",
    "\n",
    "Recall that once a model is built we can use the .predict() function to find the predicted values for data we pass. For example using the example model above:"
   ]
  },
  {
   "cell_type": "code",
   "execution_count": null,
   "metadata": {
    "collapsed": false
   },
   "outputs": [],
   "source": [
    "#example_predictions = example_model.predict(train_data)\n",
    "#print example_predictions[0] # should be 271789.505878\n",
    "yhat = X.dot(coef)\n",
    "print yhat[0]"
   ]
  },
  {
   "cell_type": "markdown",
   "metadata": {},
   "source": [
    "# Compute RSS"
   ]
  },
  {
   "cell_type": "markdown",
   "metadata": {},
   "source": [
    "Now that we can make predictions given the model, let's write a function to compute the RSS of the model. Complete the function below to calculate RSS given the model, data, and the outcome."
   ]
  },
  {
   "cell_type": "code",
   "execution_count": null,
   "metadata": {
    "collapsed": false
   },
   "outputs": [],
   "source": []
  },
  {
   "cell_type": "code",
   "execution_count": null,
   "metadata": {
    "collapsed": true
   },
   "outputs": [],
   "source": [
    "def get_residual_sum_of_squares(coef,X,y):\n",
    "    # First get the predictions\n",
    "    yhat = X.dot(coef)\n",
    "    # Then compute the residuals/errors\n",
    "    err = yhat - y\n",
    "    # Then square and add them up\n",
    "    RSS = err.T.dot(err)\n",
    "    return(RSS)    "
   ]
  },
  {
   "cell_type": "code",
   "execution_count": null,
   "metadata": {
    "collapsed": true
   },
   "outputs": [],
   "source": []
  },
  {
   "cell_type": "markdown",
   "metadata": {},
   "source": [
    "Test your function by computing the RSS on TEST data for the example model:"
   ]
  },
  {
   "cell_type": "code",
   "execution_count": null,
   "metadata": {
    "collapsed": false
   },
   "outputs": [],
   "source": [
    "rss_example_test = get_residual_sum_of_squares(coef,Xtest,ytest)\n",
    "print rss_example_test # should be 2.7376153833e+14\n"
   ]
  },
  {
   "cell_type": "code",
   "execution_count": null,
   "metadata": {
    "collapsed": false
   },
   "outputs": [],
   "source": [
    "yhat1 = Xtest.dot(coef)\n",
    "err = yhat1 - ytest\n",
    "RSS = err.T.dot(err)\n",
    "print RSS"
   ]
  },
  {
   "cell_type": "markdown",
   "metadata": {},
   "source": [
    "# Create some new features"
   ]
  },
  {
   "cell_type": "markdown",
   "metadata": {},
   "source": [
    "Although we often think of multiple regression as including multiple different features (e.g. # of bedrooms, squarefeet, and # of bathrooms) but we can also consider transformations of existing features e.g. the log of the squarefeet or even \"interaction\" features such as the product of bedrooms and bathrooms."
   ]
  },
  {
   "cell_type": "markdown",
   "metadata": {},
   "source": [
    "You will use the logarithm function to create a new feature. so first you should import it from the math library."
   ]
  },
  {
   "cell_type": "code",
   "execution_count": null,
   "metadata": {
    "collapsed": true
   },
   "outputs": [],
   "source": [
    "from math import log"
   ]
  },
  {
   "cell_type": "markdown",
   "metadata": {},
   "source": [
    "Next create the following 4 new features as column in both TEST and TRAIN data:\n",
    "* bedrooms_squared = bedrooms\\*bedrooms\n",
    "* bed_bath_rooms = bedrooms\\*bathrooms\n",
    "* log_sqft_living = log(sqft_living)\n",
    "* lat_plus_long = lat + long \n",
    "As an example here's the first one:"
   ]
  },
  {
   "cell_type": "code",
   "execution_count": null,
   "metadata": {
    "collapsed": false
   },
   "outputs": [],
   "source": [
    "train_Data['bedrooms_squared'] = train_Data['bedrooms'].apply(lambda x: x**2)\n",
    "test_Data['bedrooms_squared'] = test_Data['bedrooms'].apply(lambda x: x**2)"
   ]
  },
  {
   "cell_type": "code",
   "execution_count": null,
   "metadata": {
    "collapsed": true
   },
   "outputs": [],
   "source": [
    "# create the remaining 3 features in both TEST and TRAIN data\n",
    "train_Data['log_sqft_living'] = train_Data['sqft_living'].apply(lambda x: log(x))\n",
    "test_Data['log_sqft_living'] = test_Data['sqft_living'].apply(lambda x: log(x))\n",
    "\n",
    "train_Data['bed_bath_rooms'] = train_Data['bedrooms'] * train_Data['bathrooms'] \n",
    "test_Data['bed_bath_rooms'] = test_Data['bedrooms'] * test_Data['bathrooms'] \n",
    "\n",
    "train_Data['lat_plus_long'] = train_Data['lat'] + train_Data['long'] \n",
    "test_Data['lat_plus_long'] = test_Data['lat']+ test_Data['long'] \n"
   ]
  },
  {
   "cell_type": "code",
   "execution_count": null,
   "metadata": {
    "collapsed": true
   },
   "outputs": [],
   "source": []
  },
  {
   "cell_type": "code",
   "execution_count": null,
   "metadata": {
    "collapsed": false
   },
   "outputs": [],
   "source": [
    "print test_Data['lat_plus_long'].head()\n",
    "print test_Data['lat'].head()\n",
    "print test_Data['long'].head()\n",
    "np.mean(test_Data['lat_plus_long'])"
   ]
  },
  {
   "cell_type": "markdown",
   "metadata": {},
   "source": [
    "* Squaring bedrooms will increase the separation between not many bedrooms (e.g. 1) and lots of bedrooms (e.g. 4) since 1^2 = 1 but 4^2 = 16. Consequently this feature will mostly affect houses with many bedrooms.\n",
    "* bedrooms times bathrooms gives what's called an \"interaction\" feature. It is large when *both* of them are large.\n",
    "* Taking the log of squarefeet has the effect of bringing large values closer together and spreading out small values.\n",
    "* Adding latitude to longitude is totally non-sensical but we will do it anyway (you'll see why)"
   ]
  },
  {
   "cell_type": "markdown",
   "metadata": {},
   "source": [
    "**Quiz Question: What is the mean (arithmetic average) value of your 4 new features on TEST data? (round to 2 digits)**"
   ]
  },
  {
   "cell_type": "code",
   "execution_count": null,
   "metadata": {
    "collapsed": false
   },
   "outputs": [],
   "source": [
    "temp = np.mean(test_Data[['bedrooms_squared', 'log_sqft_living', 'bed_bath_rooms', 'lat_plus_long']])\n",
    "print np.mean(temp)\n",
    "meanbed2 = np.mean(test_Data[['bedrooms_squared']])\n",
    "print meanbed2\n",
    "meanbedbath = np.mean(test_Data[['bed_bath_rooms']])\n",
    "print meanbedbath\n",
    "meanlogsqft = np.mean(test_Data[['log_sqft_living']])\n",
    "print meanlogsqft\n",
    "meanlatlong = np.mean(test_Data[['lat_plus_long']])\n",
    "print meanlatlong"
   ]
  },
  {
   "cell_type": "markdown",
   "metadata": {},
   "source": [
    "# Learning Multiple Models"
   ]
  },
  {
   "cell_type": "markdown",
   "metadata": {},
   "source": [
    "Now we will learn the weights for three (nested) models for predicting house prices. The first model will have the fewest features the second model will add one more feature and the third will add a few more:\n",
    "* Model 1: squarefeet, # bedrooms, # bathrooms, latitude & longitude\n",
    "* Model 2: add bedrooms\\*bathrooms\n",
    "* Model 3: Add log squarefeet, bedrooms squared, and the (nonsensical) latitude + longitude"
   ]
  },
  {
   "cell_type": "code",
   "execution_count": null,
   "metadata": {
    "collapsed": true
   },
   "outputs": [],
   "source": [
    "model_1_features = ['sqft_living', 'bedrooms', 'bathrooms', 'lat', 'long']\n",
    "model_2_features = model_1_features + ['bed_bath_rooms']\n",
    "model_3_features = model_2_features + ['bedrooms_squared', 'log_sqft_living', 'lat_plus_long']"
   ]
  },
  {
   "cell_type": "markdown",
   "metadata": {},
   "source": [
    "Now that you have the features, learn the weights for the three different models for predicting target = 'price' using graphlab.linear_regression.create() and look at the value of the weights/coefficients:"
   ]
  },
  {
   "cell_type": "code",
   "execution_count": null,
   "metadata": {
    "collapsed": false
   },
   "outputs": [],
   "source": [
    "# Learn the three models: (don't forget to set validation_set = None)\n",
    "#mode 1\n",
    "X1 = train_Data[['sqft_living', 'bedrooms', 'bathrooms', 'lat', 'long']]\n",
    "X1 = np.array(X1)\n",
    "X1 = np.insert(X1,0,1,1)\n",
    "\n",
    "# model 2\n",
    "X2 = train_Data[['sqft_living', 'bedrooms', 'bathrooms', 'lat', 'long', 'bed_bath_rooms']]\n",
    "X2 = np.array(X2)\n",
    "X2 = np.insert(X2,0,1,1)\n",
    "\n",
    "#model 3\n",
    "X3 = train_Data[['sqft_living', 'bedrooms', 'bathrooms', 'lat', 'long', 'bed_bath_rooms',\n",
    "                'bedrooms_squared', 'log_sqft_living', 'lat_plus_long']]\n",
    "X3 = np.array(X3)\n",
    "X3 = np.insert(X3,0,1,1)"
   ]
  },
  {
   "cell_type": "markdown",
   "metadata": {},
   "source": [
    "## Create Test Data models"
   ]
  },
  {
   "cell_type": "code",
   "execution_count": null,
   "metadata": {
    "collapsed": false
   },
   "outputs": [],
   "source": [
    "yt = test_Data['price']\n",
    "yt = np.array(yt)\n",
    "yt = yt.reshape(len(yt), 1)\n",
    "#mode 1\n",
    "X1t = test_Data[['sqft_living', 'bedrooms', 'bathrooms', 'lat', 'long']]\n",
    "X1t = np.array(X1t)\n",
    "X1t = np.insert(X1t,0,1,1)\n",
    "\n",
    "# model 2\n",
    "X2t = test_Data[['sqft_living', 'bedrooms', 'bathrooms', 'lat', 'long', 'bed_bath_rooms']]\n",
    "X2t = np.array(X2t)\n",
    "X2t = np.insert(X2t,0,1,1)\n",
    "\n",
    "#model 3\n",
    "X3t = test_Data[['sqft_living', 'bedrooms', 'bathrooms', 'lat', 'long', 'bed_bath_rooms',\n",
    "                'bedrooms_squared', 'log_sqft_living', 'lat_plus_long']]\n",
    "X3t = np.array(X3t)\n",
    "X3t = np.insert(X3t,0,1,1)"
   ]
  },
  {
   "cell_type": "code",
   "execution_count": null,
   "metadata": {
    "collapsed": false
   },
   "outputs": [],
   "source": [
    "# Examine/extract each model's coefficients:\n",
    "# model 1\n",
    "xx1 = X1.T.dot(X1)\n",
    "xy = X1.T.dot(y)\n",
    "coef1 = np.linalg.inv(xx1).dot(xy)\n",
    "print('Coefficients from model 1:{}'.format(coef1))"
   ]
  },
  {
   "cell_type": "code",
   "execution_count": null,
   "metadata": {
    "collapsed": false
   },
   "outputs": [],
   "source": [
    "# Predict house price for model 1 test set\n",
    "yhat1 = X1t.dot(coef1)\n",
    "print yhat1[0:3]\n",
    "\n",
    "# Predict house price for model 2 test set\n",
    "yhat2 = X2t.dot(coef2)\n",
    "print yhat[0:3]\n",
    "print yt[0:3]"
   ]
  },
  {
   "cell_type": "code",
   "execution_count": null,
   "metadata": {
    "collapsed": false
   },
   "outputs": [],
   "source": [
    "# Examine/extract each model's coefficients:\n",
    "# model 2\n",
    "xx2 = X2.T.dot(X2)\n",
    "xy2 = X2.T.dot(y)\n",
    "coef2 = np.linalg.inv(xx2).dot(xy2)\n",
    "print('Coeficcients from model 2: {}'.format(coef2))"
   ]
  },
  {
   "cell_type": "code",
   "execution_count": null,
   "metadata": {
    "collapsed": false
   },
   "outputs": [],
   "source": [
    "# Examine/extract each model's coefficients:\n",
    "# model 2\n",
    "xx3 = X3.T.dot(X3)\n",
    "xy3 = X3.T.dot(y)\n",
    "coef3 = np.linalg.inv(xx3).dot(xy3)\n",
    "print('Coeficcients from model 2: {}'.format(coef3))"
   ]
  },
  {
   "cell_type": "markdown",
   "metadata": {},
   "source": [
    "**Quiz Question: What is the sign (positive or negative) for the coefficient/weight for 'bathrooms' in model 1?**\n",
    "Coefficient number 4 is positive indicating that a house with one more bathroom increases the expected price of the house\n",
    "\n",
    "**Quiz Question: What is the sign (positive or negative) for the coefficient/weight for 'bathrooms' in model 2?**\n",
    "Coefficient number 4 is negative in model 2 indicating that one more bathroom reduces the price.\n",
    "Probablt multicolinearity due to bedroom * bathroom variable\n",
    "\n",
    "Think about what this means."
   ]
  },
  {
   "cell_type": "markdown",
   "metadata": {},
   "source": [
    "# Comparing multiple models\n",
    "\n",
    "Now that you've learned three models and extracted the model weights we want to evaluate which model is best."
   ]
  },
  {
   "cell_type": "markdown",
   "metadata": {},
   "source": [
    "First use your functions from earlier to compute the RSS on TRAINING Data for each of the three models."
   ]
  },
  {
   "cell_type": "code",
   "execution_count": null,
   "metadata": {
    "collapsed": false
   },
   "outputs": [],
   "source": [
    "# Compute the RSS on TRAINING data for each of the three models and record the values:\n",
    "Rssmodel1 = get_residual_sum_of_squares(coef1,X1,y)\n",
    "print Rssmodel1\n",
    "\n",
    "Rssmodel2 = get_residual_sum_of_squares(coef2,X2,y)\n",
    "print Rssmodel2\n",
    "\n",
    "Rssmodel3 = get_residual_sum_of_squares(coef3,X3,y)\n",
    "print Rssmodel3"
   ]
  },
  {
   "cell_type": "markdown",
   "metadata": {},
   "source": [
    "**Quiz Question: Which model (1, 2 or 3) has lowest RSS on TRAINING Data?** Is this what you expected?\n",
    "\n",
    "Model 2 has lowest error\n",
    "Could be overfitting data"
   ]
  },
  {
   "cell_type": "markdown",
   "metadata": {},
   "source": [
    "Now compute the RSS on on TEST data for each of the three models.\n"
   ]
  },
  {
   "cell_type": "code",
   "execution_count": null,
   "metadata": {
    "collapsed": false
   },
   "outputs": [],
   "source": [
    "# model 1\n",
    "RSSmodel1test = get_residual_sum_of_squares(coef1,X1t,yt)\n",
    "print RSSmodel1test\n",
    "\n",
    "# model 2\n",
    "RSSmodel2test = get_residual_sum_of_squares(coef2,X2t,yt)\n",
    "print RSSmodel2test\n",
    "\n",
    "# model 3\n",
    "RSSmodel3test = get_residual_sum_of_squares(coef3,X3t,yt)\n",
    "print RSSmodel3test"
   ]
  },
  {
   "cell_type": "markdown",
   "metadata": {},
   "source": [
    "**Quiz Question: Which model (1, 2 or 3) has lowest RSS on TESTING Data?** Is this what you expected?Think about the features that were added to each model from the previous.\n",
    "\n",
    "Model 2 has the lowest RSS"
   ]
  },
  {
   "cell_type": "markdown",
   "metadata": {},
   "source": [
    "# Gradient Descent"
   ]
  },
  {
   "cell_type": "code",
   "execution_count": null,
   "metadata": {
    "collapsed": false
   },
   "outputs": [],
   "source": [
    "xx = X11.T.dot(X11)\n",
    "xy = X11.T.dot(y)\n",
    "Beta = np.linalg.solve(xx,xy)\n",
    "print Beta"
   ]
  },
  {
   "cell_type": "code",
   "execution_count": 250,
   "metadata": {
    "collapsed": true
   },
   "outputs": [],
   "source": [
    "def addconstant(X):\n",
    "    m = len(X)\n",
    "    X = np.array(X)\n",
    "    X = np.insert(X,0,1,1)\n",
    "    X = X.reshape(len(X),X.shape[1])\n",
    "    return X"
   ]
  },
  {
   "cell_type": "code",
   "execution_count": null,
   "metadata": {
    "collapsed": true
   },
   "outputs": [],
   "source": [
    "def predict_outcome(feature_matrix, weights):\n",
    "    predictions = feature_matrix.dot(weights)\n",
    "    return(predictions)"
   ]
  },
  {
   "cell_type": "code",
   "execution_count": null,
   "metadata": {
    "collapsed": true
   },
   "outputs": [],
   "source": [
    "def ComputeCost(theta,x,y):\n",
    "    m = len(y)\n",
    "    J = 0\n",
    "    h = x.dot(theta)\n",
    "    e = (y-h)\n",
    "    #J = (0.5*m) * np.sum(np.square(h-y))\n",
    "    J = (0.5*m) * np.sum(e.T.dot(e))\n",
    "    return J  "
   ]
  },
  {
   "cell_type": "code",
   "execution_count": null,
   "metadata": {
    "collapsed": true
   },
   "outputs": [],
   "source": [
    "# NB have to define m as float otherwise i get 0\n",
    "def gradientDescent(x, y, theta, alpha, num_iters):\n",
    "    m = y.size\n",
    "    J_history = np.zeros(num_iters)\n",
    "    \n",
    "    for iter in np.arange(num_iters):\n",
    "        h = x.dot(theta)\n",
    "        theta = theta - alpha*(1/float(m))*(x.T.dot(h-y))\n",
    "        J_history[iter] = ComputeCost(theta,x,y)\n",
    "    return(theta, J_history)"
   ]
  },
  {
   "cell_type": "code",
   "execution_count": null,
   "metadata": {
    "collapsed": false
   },
   "outputs": [],
   "source": [
    "intial_weights = initial_weights.reshape(2,1)\n",
    "print X11.shape, initial_weights.shape"
   ]
  },
  {
   "cell_type": "code",
   "execution_count": 288,
   "metadata": {
    "collapsed": false
   },
   "outputs": [],
   "source": [
    "\n",
    "X11 = train_Data['sqft_living']\n",
    "#X11 = addconstant(X11)\n",
    "\n",
    "X11 = np.array(X11)\n",
    "X11 = X11.reshape(len(X11),1)\n",
    "X11 = np.insert(X11,0,1,1)\n",
    "\n",
    "X11t = test_Data['sqft_living']\n",
    "#X11t = addconstant(X11t)\n",
    "X11t = np.array(X11t)\n",
    "X11t = X11t.reshape(len(X11t),1)\n",
    "X11t = np.insert(X11t,0,1,1)\n",
    "\n",
    "X12 = train_Data[['sqft_living','sqft_living15']]\n",
    "X12 = addconstant(X12)\n",
    "#X12 = np.array(X12)\n",
    "#X12 = np.insert(X12,0,1,1)\n",
    "\n",
    "X12t = test_Data[['sqft_living','sqft_living15']]\n",
    "#X12t = np.array(X12t)\n",
    "#X12t = np.insert(X12t,0,1,1)\n",
    "X12t = addconstant(X12t)"
   ]
  },
  {
   "cell_type": "markdown",
   "metadata": {},
   "source": [
    "## Test Gradient Descent"
   ]
  },
  {
   "cell_type": "markdown",
   "metadata": {},
   "source": [
    "## Very important to set correct alpha"
   ]
  },
  {
   "cell_type": "code",
   "execution_count": 243,
   "metadata": {
    "collapsed": false
   },
   "outputs": [],
   "source": [
    "# Test gradient descent\n",
    "# very important to correctly set dimension for theta\n",
    "initial_theta = np.zeros((X11.shape[1],1))\n",
    "initial_theta1 = [[-47000., 1.]]\n",
    "initial_theta1 = np.array(initial_theta1)\n",
    "initial_theta1 = initial_theta1.reshape(2,1)\n",
    "alpha = 0.000000001 # NB was getting NA with a higher alpha\n",
    "num_iters = 1500\n"
   ]
  },
  {
   "cell_type": "code",
   "execution_count": 253,
   "metadata": {
    "collapsed": true
   },
   "outputs": [],
   "source": [
    "initial_theta2 = [-100000, 1, 1]\n",
    "initial_theta2 = np.array(initial_theta2)\n",
    "initial_theta2 = initial_theta2.reshape(3,1)"
   ]
  },
  {
   "cell_type": "code",
   "execution_count": 333,
   "metadata": {
    "collapsed": false
   },
   "outputs": [
    {
     "name": "stdout",
     "output_type": "stream",
     "text": [
      "('theta: ', array([-46999.88718545,    281.79518722]))\n",
      "[[   0.          281.95883963]] [-47116.07907289]\n",
      "[[ 355967.2305372 ]\n",
      " [ 784295.91510953]\n",
      " [ 434869.88295842]\n",
      " [ 606764.94716178]]\n"
     ]
    },
    {
     "data": {
      "image/png": "[encoded data removed]",
      "text/plain": [
       "<matplotlib.figure.Figure at 0x1c9f86d8>"
      ]
     },
     "metadata": {},
     "output_type": "display_data"
    }
   ],
   "source": [
    "# theta for minimized cost J\n",
    "theta , Cost_J = gradientDescent(X11, y, initial_theta1, 0.000000001, num_iters)\n",
    "print('theta: ',theta.ravel())\n",
    "\n",
    "plt.plot(Cost_J)\n",
    "plt.ylabel('Cost J')\n",
    "plt.xlabel('Iterations');\n",
    "print lr.coef_ , lr.intercept_#\n",
    "pred = X11t.dot(theta)\n",
    "print pred[0:4]"
   ]
  },
  {
   "cell_type": "markdown",
   "metadata": {},
   "source": [
    "## Model 2 Gradient Descent"
   ]
  },
  {
   "cell_type": "code",
   "execution_count": 338,
   "metadata": {
    "collapsed": false
   },
   "outputs": [
    {
     "name": "stdout",
     "output_type": "stream",
     "text": [
      "('theta2: ', array([-46999.88718545,    281.79518722]))\n",
      "predicted value of house is: [[ 401200.52027118]\n",
      " [ 714658.6692434 ]\n",
      " [ 342099.68062487]\n",
      " ..., \n",
      " [ 694951.34248974]\n",
      " [ 560000.73805039]\n",
      " [ 221766.05787767]]\n",
      "real value of house is: [[ 221900.]\n",
      " [ 538000.]\n",
      " [ 180000.]\n",
      " ..., \n",
      " [ 360000.]\n",
      " [ 400000.]\n",
      " [ 325000.]]\n",
      "Predicted price 1st house using model 2: [[ 401200.52027118]\n",
      " [ 714658.6692434 ]\n",
      " [ 342099.68062487]\n",
      " [ 669074.99786303]\n",
      " [ 312552.70241989]]\n"
     ]
    },
    {
     "data": {
      "image/png": "[encoded data removed]",
      "text/plain": [
       "<matplotlib.figure.Figure at 0x1ffe9470>"
      ]
     },
     "metadata": {},
     "output_type": "display_data"
    }
   ],
   "source": [
    "theta2 , Cost_J1 = gradientDescent(X12, y, initial_theta2, 0.0000000004, num_iters)\n",
    "print('theta2: ',theta.ravel())\n",
    "plt.plot(Cost_J1)\n",
    "\n",
    "#predicted values\n",
    "pred2 = X12t.dot(theta2)\n",
    "print('predicted value of house is: {}'.format(pred2))\n",
    "print('real value of house is: {}'.format(y))\n",
    "pred2 = X12t.dot(theta2)\n",
    "print('Predicted price 1st house using model 2: {}'.format(pred2[0:5]))"
   ]
  },
  {
   "cell_type": "markdown",
   "metadata": {},
   "source": [
    "## changing values of alpha"
   ]
  },
  {
   "cell_type": "code",
   "execution_count": 304,
   "metadata": {
    "collapsed": false
   },
   "outputs": [
    {
     "name": "stdout",
     "output_type": "stream",
     "text": [
      "('theta2: ', array([-46999.88718545,    281.79518722]))\n",
      "predicted value of house is: [[ 401200.52027118]\n",
      " [ 714658.6692434 ]\n",
      " [ 342099.68062487]\n",
      " ..., \n",
      " [ 694951.34248974]\n",
      " [ 560000.73805039]\n",
      " [ 221766.05787767]]\n",
      "real value of house is: [[ 221900.]\n",
      " [ 538000.]\n",
      " [ 180000.]\n",
      " ..., \n",
      " [ 360000.]\n",
      " [ 400000.]\n",
      " [ 325000.]]\n",
      "Predicted price 1st house using model 2: [[ 401200.52027118]\n",
      " [ 714658.6692434 ]\n",
      " [ 342099.68062487]\n",
      " [ 669074.99786303]\n",
      " [ 312552.70241989]]\n"
     ]
    },
    {
     "data": {
      "image/png": "[encoded data removed]",
      "text/plain": [
       "<matplotlib.figure.Figure at 0x1fb35630>"
      ]
     },
     "metadata": {},
     "output_type": "display_data"
    }
   ],
   "source": [
    "theta2 , Cost_J1 = gradientDescent(X12, y, initial_theta2, 0.0000000004, num_iters)\n",
    "print('theta2: ',theta.ravel())\n",
    "plt.plot(Cost_J1)\n",
    "\n",
    "#predicted values\n",
    "pred2 = X12t.dot(theta2)\n",
    "print('predicted value of house is: {}'.format(pred2))\n",
    "print('real value of house is: {}'.format(y))\n",
    "pred2 = X12t.dot(theta2)\n",
    "print('Predicted price 1st house using model 2: {}'.format(pred2[0:5]))"
   ]
  },
  {
   "cell_type": "code",
   "execution_count": 289,
   "metadata": {
    "collapsed": false
   },
   "outputs": [
    {
     "name": "stdout",
     "output_type": "stream",
     "text": [
      "[[   0.          281.95883963]] [-47116.07907289]\n"
     ]
    }
   ],
   "source": [
    "lr = LinearRegression(fit_intercept = True)\n",
    "lr.fit(X11,y)\n",
    "lr.get_params\n",
    "print lr.coef_, lr.intercept_\n"
   ]
  },
  {
   "cell_type": "code",
   "execution_count": 305,
   "metadata": {
    "collapsed": false
   },
   "outputs": [
    {
     "name": "stdout",
     "output_type": "stream",
     "text": [
      "[array([[ 356085.0615985]]), array([[ 784662.49783661]]), array([[ 435033.53669499]]), array([[ 607028.4288695]])]\n"
     ]
    }
   ],
   "source": [
    "p = map(lr.predict, X11t)\n",
    "print p[0:4]\n",
    "p = X11t.dot(theta)"
   ]
  },
  {
   "cell_type": "code",
   "execution_count": 279,
   "metadata": {
    "collapsed": false
   },
   "outputs": [
    {
     "name": "stdout",
     "output_type": "stream",
     "text": [
      "[[   0.          245.18871442   65.27158522]] [-100262.17515853]\n"
     ]
    }
   ],
   "source": [
    "lr = LinearRegression(fit_intercept = True)\n",
    "lr.fit(X12,y)\n",
    "lr.get_params\n",
    "print lr.coef_, lr.intercept_"
   ]
  },
  {
   "cell_type": "code",
   "execution_count": null,
   "metadata": {
    "collapsed": true
   },
   "outputs": [],
   "source": [
    "#RSS for model 1\n",
    "get_residual_sum_of_squares(theta)"
   ]
  },
  {
   "cell_type": "code",
   "execution_count": 280,
   "metadata": {
    "collapsed": false
   },
   "outputs": [
    {
     "name": "stdout",
     "output_type": "stream",
     "text": [
      "[[ 366541.10816718]]\n"
     ]
    }
   ],
   "source": [
    "p = p = map(lr.predict, X12t)\n",
    "print p[0]"
   ]
  }
 ],
 "metadata": {
  "kernelspec": {
   "display_name": "Python 2",
   "language": "python",
   "name": "python2"
  },
  "language_info": {
   "codemirror_mode": {
    "name": "ipython",
    "version": 2
   },
   "file_extension": ".py",
   "mimetype": "text/x-python",
   "name": "python",
   "nbconvert_exporter": "python",
   "pygments_lexer": "ipython2",
   "version": "2.7.10"
  }
 },
 "nbformat": 4,
 "nbformat_minor": 0
}
